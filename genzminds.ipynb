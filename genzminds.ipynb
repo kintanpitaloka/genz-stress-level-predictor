{
  "nbformat": 4,
  "nbformat_minor": 0,
  "metadata": {
    "colab": {
      "provenance": [],
      "authorship_tag": "ABX9TyPuPIbbbLXSgY3hV/Q9u6f+",
      "include_colab_link": true
    },
    "kernelspec": {
      "name": "python3",
      "display_name": "Python 3"
    },
    "language_info": {
      "name": "python"
    }
  },
  "cells": [
    {
      "cell_type": "markdown",
      "metadata": {
        "id": "view-in-github",
        "colab_type": "text"
      },
      "source": [
        "<a href=\"https://colab.research.google.com/github/kintanpitaloka/genz_minds/blob/main/genzminds.ipynb\" target=\"_parent\"><img src=\"https://colab.research.google.com/assets/colab-badge.svg\" alt=\"Open In Colab\"/></a>"
      ]
    },
    {
      "cell_type": "markdown",
      "source": [
        "## Clicks, Scrolls, and Emotions: What the Data Says About Gen Z’s Mind ##"
      ],
      "metadata": {
        "id": "3KdCduip7Jf-"
      }
    },
    {
      "cell_type": "markdown",
      "source": [
        "https://www.kaggle.com/datasets/abhishekdave9/digital-habits-vs-mental-health-dataset"
      ],
      "metadata": {
        "id": "87L7mdls51eR"
      }
    },
    {
      "cell_type": "markdown",
      "source": [
        "**Overview**\n",
        "\n",
        "The Digital Habits vs. Mental Health dataset is a synthetic dataset crafted to investigate the potential relationships between Gen Z's digital lifestyle—particularly screen time, social media engagement, and sleep—and their mental health indicators, such as stress levels and mood scores.\n",
        "It contains 1,00,000 rows of data across 6 key variables that simulate real-world behavioral patterns.\n",
        "\n",
        "This dataset is designed for use in exploratory data analysis (EDA), correlation analysis, feature engineering practice, machine learning modeling (regression/classification), and public health awareness applications.\n",
        "\n",
        "It is especially useful for students, data scientists, and researchers interested in the intersection of technology usage and psychology in modern youth."
      ],
      "metadata": {
        "id": "lkBsr2B556vn"
      }
    },
    {
      "cell_type": "code",
      "source": [],
      "metadata": {
        "id": "QsQ4v3GE57m1"
      },
      "execution_count": null,
      "outputs": []
    }
  ]
}